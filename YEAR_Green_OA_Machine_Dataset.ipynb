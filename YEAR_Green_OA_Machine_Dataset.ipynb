{
  "nbformat": 4,
  "nbformat_minor": 0,
  "metadata": {
    "colab": {
      "provenance": [],
      "authorship_tag": "ABX9TyMQD7A8hHOIAEZAiCfSTIR8",
      "include_colab_link": true
    },
    "kernelspec": {
      "name": "python3",
      "display_name": "Python 3"
    },
    "language_info": {
      "name": "python"
    }
  },
  "cells": [
    {
      "cell_type": "markdown",
      "metadata": {
        "id": "view-in-github",
        "colab_type": "text"
      },
      "source": [
        "<a href=\"https://colab.research.google.com/github/elibtronic/2025_state_of_scholarly_communication/blob/main/YEAR_Green_OA_Machine_Dataset.ipynb\" target=\"_parent\"><img src=\"https://colab.research.google.com/assets/colab-badge.svg\" alt=\"Open In Colab\"/></a>"
      ]
    },
    {
      "cell_type": "markdown",
      "source": [
        "# 2025 Green OA Machine Dataset creation\n",
        "\n",
        "Will just open up the dataset created in **SofSC** notebook\n",
        "identifies\n",
        "\n",
        "- `total_eligible_authors` - all authors with a free pathway\n",
        "- `authors_to_contact` - all authors with a free pathway AND (listed as first OR corresponding author)\n",
        "\n",
        "Uses ORCID_API to retrieve name. Option to save each as CSV\n"
      ],
      "metadata": {
        "id": "ZsYdzd4DQfPu"
      }
    },
    {
      "cell_type": "code",
      "execution_count": null,
      "metadata": {
        "id": "MGdqI_P6QeSZ"
      },
      "outputs": [],
      "source": [
        "# @title Dataset Details\n",
        "\n",
        "!pip install orcid\n",
        "import orcid\n",
        "import pandas as pd\n",
        "from google.colab import files\n",
        "\n",
        "# @markdown YEAR to tag this dataset with\n",
        "YEAR = \"2025\" # @param {\"type\":\"string\"}\n",
        "\n",
        "# @markdown Dataset completed by the SofSC process\n",
        "url_of_dataset = \"https://raw.githubusercontent.com/elibtronic/2025_state_of_scholarly_communication/refs/heads/main/Brock_OpenAlex_Harvest_Start_Date_2024-07-01_to_2025-06-30_retrieved_2025-10-03.csv\" # @param {\"type\":\"string\"}\n",
        "\n",
        "# @markdown URL 'stub' of the Share Your Papers form\n",
        "\n",
        "url_syp = \"https://researchguides.library.brocku.ca/getting-your-research-out/green-open-access\"  # @param {\"type\":\"string\"}\n",
        "\n",
        "\n",
        "# @markdown ORCID API details\n",
        "\n",
        "Client_ID = \"\" # @param {\"type\":\"string\"}\n",
        "Client_Secret = \"\" # @param {\"type\":\"string\"}\n",
        "search_orcid = \"\" # @param {\"type\":\"string\"}\n",
        "\n",
        "api = orcid.PublicAPI(Client_ID, Client_Secret, sandbox=False)\n",
        "search_token = api.get_search_token_from_orcid()\n",
        "\n",
        "print(\"\\nDataset Details...\")\n",
        "df = pd.read_csv(url_of_dataset)\n",
        "#Gah!\n",
        "df = df.fillna(\"None\")\n",
        "print(\"Total items: \",len(df))\n",
        "\n",
        "total_eligible_authors = df[df.eval('oa_status == \"closed\"')]\n",
        "total_eligible_authors = total_eligible_authors[total_eligible_authors['submitted_oa_policy'].str.contains('fee_no', case=False) | total_eligible_authors['accepted_oa_policy'].str.contains('fee_no', case=False) | total_eligible_authors['published_oa_policy'].str.contains('fee_no', case=False)]\n",
        "print(\"Total Eligible Authors:\",len(total_eligible_authors))\n",
        "\n",
        "\n",
        "authors_to_contact = df[df.eval('(corresponding_author == \"yes\") or (author_position == \"first\")')]\n",
        "authors_to_contact = authors_to_contact[authors_to_contact.eval('already_oa == \"no\"')]\n",
        "authors_to_contact = authors_to_contact[authors_to_contact['submitted_oa_policy'].str.contains('fee_no', case=False) | authors_to_contact['accepted_oa_policy'].str.contains('fee_no', case=False) | authors_to_contact['published_oa_policy'].str.contains('fee_no', case=False)]\n",
        "print(\"Total items we can contact: \",len(authors_to_contact))"
      ]
    },
    {
      "cell_type": "code",
      "source": [
        "total_eligible_authors = df[df.eval('already_oa == \"no\"')]\n",
        "total_eligible_authors = total_eligible_authors[\\\n",
        "                                                total_eligible_authors['submitted_oa_policy'].str.contains('fee_no', case=False)\\\n",
        "                                                | total_eligible_authors['accepted_oa_policy'].str.contains('fee_no', case=False)\\\n",
        "                                                | total_eligible_authors['published_oa_policy'].str.contains('fee_no', case=False)]\n",
        "\n",
        "#print(\"Total Eligible Authors:\",len(total_eligible_authors))\n",
        "total_eligible_authors.head(10)\n"
      ],
      "metadata": {
        "id": "Yi4dLEX2Ckw4"
      },
      "execution_count": null,
      "outputs": []
    },
    {
      "cell_type": "code",
      "source": [
        "#Total set of items\n",
        "df.sample(5)"
      ],
      "metadata": {
        "id": "WmcENanEpOdB"
      },
      "execution_count": null,
      "outputs": []
    },
    {
      "cell_type": "code",
      "source": [
        "#Total items safe to contact about\n",
        "authors_to_contact.sample(5)"
      ],
      "metadata": {
        "id": "2kYqIMtOnmjG"
      },
      "execution_count": null,
      "outputs": []
    },
    {
      "cell_type": "markdown",
      "source": [
        "## Augment Authors to Contact"
      ],
      "metadata": {
        "id": "p34Yw5xwz5Bi"
      }
    },
    {
      "cell_type": "code",
      "source": [
        "#Add author name from a fetch for authors_to_contact\n",
        "name_list = []\n",
        "\n",
        "for row in authors_to_contact.iterrows():\n",
        "\n",
        "  try:\n",
        "    orcid = row[1][\"ORCID\"].split(\"/\")[3]\n",
        "    o_data = api.read_record_public(orcid, '',search_token)\n",
        "    name_string = o_data['person']['name']['family-name']['value'] + \" , \" + o_data['person']['name']['given-names']['value']\n",
        "    #print(name_string)\n",
        "  except:\n",
        "    name_string = \"No ORCID\"\n",
        "\n",
        "  name_list.append(name_string)\n",
        "\n",
        "authors_to_contact['name'] = name_list\n",
        "\n",
        "#full URL for pre-popped form\n",
        "pre_pop_list = []\n",
        "\n",
        "for row in authors_to_contact.iterrows():\n",
        "  doi_trimmed = row[1][\"DOI\"].split(\"doi.org/\")[-2:][1]\n",
        "  pre_pop_list.append(url_syp + \"?doi=\" + doi_trimmed)\n",
        "\n",
        "authors_to_contact['form_url'] = pre_pop_list\n",
        "print(\"done\")"
      ],
      "metadata": {
        "id": "M32K4EX_q1oQ"
      },
      "execution_count": null,
      "outputs": []
    },
    {
      "cell_type": "code",
      "source": [
        "#Authors to Contact\n",
        "authors_to_contact.sample(5)"
      ],
      "metadata": {
        "id": "rec4PCkRszSd"
      },
      "execution_count": null,
      "outputs": []
    },
    {
      "cell_type": "code",
      "source": [
        "# Author to Contact as CSV\n",
        "csv_file_name = YEAR+\"_Author_To_Contact.csv\"\n",
        "print(\"Saving to file: \"+csv_file_name)\n",
        "authors_to_contact.to_csv(csv_file_name,index=False)\n",
        "files.download(csv_file_name)"
      ],
      "metadata": {
        "id": "4Fyklp2JurG9"
      },
      "execution_count": null,
      "outputs": []
    },
    {
      "cell_type": "markdown",
      "source": [
        "## Augment Total Eligible Authors\n",
        "\n"
      ],
      "metadata": {
        "id": "DEe4hYQRz9Y1"
      }
    },
    {
      "cell_type": "code",
      "source": [
        "#Add author name from a fetch for total_eligible_authors\n",
        "name_list = []\n",
        "\n",
        "for row in total_eligible_authors.iterrows():\n",
        "\n",
        "  try:\n",
        "    orcid = row[1][\"ORCID\"].split(\"/\")[3]\n",
        "    o_data = api.read_record_public(orcid, '',search_token)\n",
        "    name_string = o_data['person']['name']['family-name']['value'] + \" , \" + o_data['person']['name']['given-names']['value']\n",
        "    #print(name_string)\n",
        "  except:\n",
        "    name_string = \"No ORCID\"\n",
        "\n",
        "  name_list.append(name_string)\n",
        "\n",
        "total_eligible_authors['name'] = name_list\n",
        "\n",
        "#full URL for pre-popped form\n",
        "pre_pop_list = []\n",
        "\n",
        "for row in total_eligible_authors.iterrows():\n",
        "  doi_trimmed = row[1][\"DOI\"].split(\"doi.org/\")[-2:][1]\n",
        "  pre_pop_list.append(url_syp + \"?doi=\" + doi_trimmed)\n",
        "\n",
        "total_eligible_authors['form_url'] = pre_pop_list\n",
        "print(\"done\")"
      ],
      "metadata": {
        "id": "47rEsLqO0EQ1"
      },
      "execution_count": null,
      "outputs": []
    },
    {
      "cell_type": "code",
      "source": [
        "#Total Eligible Authors\n",
        "total_eligible_authors.sample(5)"
      ],
      "metadata": {
        "id": "aSdlkyKA0ECQ"
      },
      "execution_count": null,
      "outputs": []
    },
    {
      "cell_type": "code",
      "source": [
        "# Total Eligible Authors as CSV\n",
        "# Author to Contact as CSV\n",
        "csv_file_name = YEAR+\"_Total_Eligible_Authors.csv\"\n",
        "print(\"Saving to file: \"+csv_file_name)\n",
        "total_eligible_authors.to_csv(csv_file_name,index=False)\n",
        "files.download(csv_file_name)"
      ],
      "metadata": {
        "id": "8m5tgxUJydgO"
      },
      "execution_count": null,
      "outputs": []
    }
  ]
}