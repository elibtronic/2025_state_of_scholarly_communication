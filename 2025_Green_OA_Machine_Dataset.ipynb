{
  "nbformat": 4,
  "nbformat_minor": 0,
  "metadata": {
    "colab": {
      "provenance": [],
      "authorship_tag": "ABX9TyORu+D74FGSJFB/2/jqHmIa",
      "include_colab_link": true
    },
    "kernelspec": {
      "name": "python3",
      "display_name": "Python 3"
    },
    "language_info": {
      "name": "python"
    }
  },
  "cells": [
    {
      "cell_type": "markdown",
      "metadata": {
        "id": "view-in-github",
        "colab_type": "text"
      },
      "source": [
        "<a href=\"https://colab.research.google.com/github/elibtronic/2025_state_of_scholarly_communication/blob/main/2025_Green_OA_Machine_Dataset.ipynb\" target=\"_parent\"><img src=\"https://colab.research.google.com/assets/colab-badge.svg\" alt=\"Open In Colab\"/></a>"
      ]
    },
    {
      "cell_type": "markdown",
      "source": [
        "# 2025 Green OA Machine Dataset creation\n",
        "\n",
        "will just open up the dataset created in **SofSC** notebook"
      ],
      "metadata": {
        "id": "ZsYdzd4DQfPu"
      }
    },
    {
      "cell_type": "code",
      "execution_count": null,
      "metadata": {
        "id": "MGdqI_P6QeSZ"
      },
      "outputs": [],
      "source": [
        "# @title URL of Dataset\n",
        "url_of_dataset = \"\" # @param {\"type\":\"string\"}\n",
        "\n",
        "\n",
        "import pandas as pd\n",
        "df = pd.read_csv(url_of_dataset)"
      ]
    },
    {
      "cell_type": "code",
      "source": [
        "authors_to_contact = df[df.eval('(corresponding_author == \"yes\") or (author_position == \"first\")')]"
      ],
      "metadata": {
        "id": "dYQqtw6WRERp"
      },
      "execution_count": null,
      "outputs": []
    }
  ]
}