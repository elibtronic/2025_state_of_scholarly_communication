{
  "nbformat": 4,
  "nbformat_minor": 0,
  "metadata": {
    "colab": {
      "provenance": [],
      "collapsed_sections": [
        "n2jH_ouIyI6u"
      ],
      "authorship_tag": "ABX9TyMAPf9FM5ksFg7M7hVE1xjN",
      "include_colab_link": true
    },
    "kernelspec": {
      "name": "python3",
      "display_name": "Python 3"
    },
    "language_info": {
      "name": "python"
    }
  },
  "cells": [
    {
      "cell_type": "markdown",
      "metadata": {
        "id": "view-in-github",
        "colab_type": "text"
      },
      "source": [
        "<a href=\"https://colab.research.google.com/github/elibtronic/2025_state_of_scholarly_communication/blob/main/YEAR_SofSC.ipynb\" target=\"_parent\"><img src=\"https://colab.research.google.com/assets/colab-badge.svg\" alt=\"Open In Colab\"/></a>"
      ]
    },
    {
      "cell_type": "markdown",
      "source": [
        "\n",
        "# 2025 State of Scholarly Communication\n",
        "\n",
        "Uses OpenAlex data based on pub year and ROR on record\n",
        "Augmented with Policy Finder Data\n",
        "\n"
      ],
      "metadata": {
        "id": "Ndot_598kLlv"
      }
    },
    {
      "cell_type": "code",
      "execution_count": null,
      "metadata": {
        "id": "NYXqZKOsYjTY"
      },
      "outputs": [],
      "source": [
        "import requests\n",
        "import matplotlib.pyplot as plt\n",
        "from pprint import pprint\n",
        "import pandas as pd\n",
        "import seaborn as sns\n",
        "from datetime import datetime\n",
        "from google.colab import files\n",
        "\n",
        "#Set graph colors\n",
        "colors = sns.color_palette('inferno_r')\n",
        "color = sns.color_palette('inferno_r')[0]\n",
        "\n",
        "\n",
        "# @markdown ## OpenAlex Settings\n",
        "\n",
        "mailto = \"\"  # @param {type:\"string\"}\n",
        "\n",
        "# @markdown We'll search on both ROR and Open Alex Insitutional ID\n",
        "ror_id     = \"056am2717\"  # @param {type:\"string\"}\n",
        "\n",
        "from_publication_date = \"2024-07-01\"  # @param {type:\"date\"}\n",
        "to_publication_date = \"2025-06-30\"  # @param {type:\"date\"}\n",
        "\n",
        "# @markdown ## Policy Finder API Settings\n",
        "\n",
        "pf_key = \"\" # @param {\"type\":\"string\"}\n",
        "\n",
        "#just ror formulation\n",
        "filter = f\"authorships.institutions.ror:{ror_id},from_publication_date:{from_publication_date},to_publication_date:{to_publication_date},type:article,primary_location.source.type:journal\"\n",
        "\n",
        "api_url = f\"https://api.openalex.org/works?filter={filter}&per-page=200&mailto={mailto}\"\n",
        "\n",
        "cursor = \"*\"  # Cursor for the first request\n",
        "works = []  # List to accumulate all results\n",
        "\n",
        "while cursor:\n",
        "    # Construct the request URL with the current cursor\n",
        "    request_url = api_url + f\"&cursor={cursor}\"\n",
        "\n",
        "    # Get results from the API\n",
        "    page = requests.get(request_url).json()\n",
        "    results = page.get('results')\n",
        "    meta = page.get('meta')\n",
        "\n",
        "    # Accumulate results\n",
        "    works += results\n",
        "\n",
        "    # Get the next cursor from the current results\n",
        "    cursor = meta.get('next_cursor')\n",
        "\n",
        "    # Print progress\n",
        "    total = int(meta.get(\"count\"))\n",
        "    #print(f\"\\r{len(works)}/{total}: {request_url}\", end=\"\")\n",
        "\n",
        "# Do something with all results\n",
        "print(f\"\\nTotal works: {len(works)}\")"
      ]
    },
    {
      "cell_type": "markdown",
      "source": [
        "## Open Alex Data Fetch\n",
        "\n",
        "Extracts\n",
        "- ORCID of first Brock Author (assuming this is the most important author)\n",
        "- author postion\n",
        "- ORCID of corresponding author or 'none' if not CA is listed\n",
        "- Publication Date\n",
        "- DOI of piece\n",
        "- Item already Open Access?\n",
        "- ISSN of piece\n",
        "- source of item\n",
        "- publisher of item\n",
        "\n",
        "Still to do\n"
      ],
      "metadata": {
        "id": "NfUCTzxOqDzW"
      }
    },
    {
      "cell_type": "code",
      "source": [
        "orcid_list = []\n",
        "author_pos_list = []\n",
        "corresponding_author_list = []\n",
        "pub_date_list = []\n",
        "doi_list = []\n",
        "issn_list = []\n",
        "already_oa_list = []\n",
        "oa_status_list = []\n",
        "source_list = []\n",
        "publisher_list = []\n",
        "\n",
        "\n",
        "for work in works:\n",
        "  doi_list.append(work['doi'])\n",
        "\n",
        "  orcid = \"\"\n",
        "  for author in work['authorships']:\n",
        "\n",
        "    for intst in author['institutions']:\n",
        "      if (intst['ror'] == \"https://ror.org/\"+ror_id) and orcid == \"\":\n",
        "        orcid = author['author']['orcid']\n",
        "        author_pos = author['author_position']\n",
        "        break\n",
        "  author_pos_list.append(author_pos)\n",
        "  orcid_list.append(orcid)\n",
        "\n",
        "  #Has at least one corresponding author and write it in if true\n",
        "  corresponding_author = \"\"\n",
        "  for author in work['authorships']:\n",
        "    if author['is_corresponding'] == True:\n",
        "      corresponding_author = author['author']['orcid']\n",
        "\n",
        "  if corresponding_author == \"\":\n",
        "    corresponding_author = \"none\"\n",
        "\n",
        "  corresponding_author_list.append(corresponding_author)\n",
        "\n",
        "  try:\n",
        "    issn = work['primary_location']['source']['issn'][0]\n",
        "  except:\n",
        "    issn = \"\"\n",
        "  issn_list.append(issn)\n",
        "\n",
        "  try:\n",
        "    pub_date = work['publication_date']\n",
        "  except:\n",
        "    pub_date = \"\"\n",
        "  pub_date_list.append(pub_date)\n",
        "\n",
        "  if work['open_access']['is_oa'] == True:\n",
        "    already_oa = \"yes\"\n",
        "  else:\n",
        "    already_oa = \"no\"\n",
        "  already_oa_list.append(already_oa)\n",
        "\n",
        "  try:\n",
        "    oa_status = work['open_access']['oa_status']\n",
        "  except:\n",
        "    oa_status = \"\"\n",
        "  oa_status_list.append(oa_status)\n",
        "\n",
        "  try:\n",
        "    source = work['primary_location']['source']['display_name']\n",
        "  except:\n",
        "    source = \"\"\n",
        "  source_list.append(source)\n",
        "\n",
        "  try:\n",
        "    publisher = work['primary_location']['source']['host_organization_name']\n",
        "  except:\n",
        "    publisher = \"\"\n",
        "  publisher_list.append(publisher)\n",
        "\n",
        "\n",
        "  df = pd.DataFrame(list(zip(orcid_list, author_pos_list, corresponding_author_list, pub_date_list,doi_list,already_oa_list,oa_status_list,issn_list,source_list,publisher_list)), columns =['ORCID','author_position','corresponding_author','pub_date','DOI','already_oa','oa_status','issn','source','publisher'])"
      ],
      "metadata": {
        "id": "6KqwV8j0pIGu"
      },
      "execution_count": null,
      "outputs": []
    },
    {
      "cell_type": "code",
      "source": [
        "#df.sample(10)"
      ],
      "metadata": {
        "id": "ZnCHlyOUK7hm"
      },
      "execution_count": null,
      "outputs": []
    },
    {
      "cell_type": "markdown",
      "source": [
        "## Policy Finder\n",
        "\n",
        "Grabs associated Policy Finder policy for ISSN of DOI"
      ],
      "metadata": {
        "id": "-ieeBBn-tFtr"
      }
    },
    {
      "cell_type": "code",
      "source": [
        "#As there is no Python wrapper for this API, I'll make a function\n",
        "#that will use requests to grab the JSON\n",
        "def pf_fetch(pf_key,issn):\n",
        "  '''Returns JSON from Policy Finder given an ISSN and API Key'''\n",
        "  paip_options = {\n",
        "      \"item-type\" : \"publication\",\n",
        "      \"api-key\" : pf_key,\n",
        "      \"format\" : \"Json\",\n",
        "  }\n",
        "\n",
        "  paip_options['identifier'] = issn\n",
        "\n",
        "  requests.packages.urllib3.disable_warnings()\n",
        "  api_blob = requests.get(\"https://v2.sherpa.ac.uk/cgi/retrieve_by_id\",params=paip_options,verify=False).json()\n",
        "\n",
        "  if api_blob['items'] == []:\n",
        "    return None\n",
        "  else:\n",
        "    return api_blob['items'][0]"
      ],
      "metadata": {
        "id": "vi4RFGeZtLCR"
      },
      "execution_count": null,
      "outputs": []
    },
    {
      "cell_type": "code",
      "source": [
        "list_uri = []\n",
        "list_submitted_oa_policy = []\n",
        "list_accepted_oa_policy = []\n",
        "list_published_oa_policy = []\n",
        "prog = 0\n",
        "\n",
        "print(\"Retrieving PolicyFinder data for \", len(df), \" DOIs\")\n",
        "\n",
        "for key, value in df.iterrows():\n",
        "\n",
        "  #some low-fi progress feedback\n",
        "  prog += 1\n",
        "  if prog % 50 == 0:\n",
        "    print(str(prog)+\"..\", end = \"\")\n",
        "  if prog % 500 == 0:\n",
        "    print(\"\\n\")\n",
        "\n",
        "  if value['issn'] == \"\":\n",
        "    #print(\"no issn\")\n",
        "    list_uri.append(\"None\")\n",
        "    list_submitted_oa_policy.append(\"None\")\n",
        "    list_accepted_oa_policy.append(\"None\")\n",
        "    list_published_oa_policy.append(\"None\")\n",
        "  else:\n",
        "    #print(value['issn'])\n",
        "    par = pf_fetch(pf_key,value['issn'])\n",
        "\n",
        "    #No policy found in otherwords\n",
        "    if par == None:\n",
        "      list_uri.append(\"None\")\n",
        "      list_submitted_oa_policy.append(\"None\")\n",
        "      list_accepted_oa_policy.append(\"None\")\n",
        "      list_published_oa_policy.append(\"None\")\n",
        "    else:\n",
        "      policy_uri = par['system_metadata']['uri']\n",
        "      accepted_oa_policy = \"\"\n",
        "      published_oa_policy = \"\"\n",
        "      submitted_oa_policy = \"\"\n",
        "      for pub_policy in par['publisher_policy']:\n",
        "        for per_oa in pub_policy['permitted_oa']:\n",
        "          try:\n",
        "            #Only keep ones that have IR as option, for first pass\n",
        "            if 'institutional_repository' in per_oa['location']['location']:\n",
        "              #accepted policy first\n",
        "              if per_oa['article_version'][0] == 'accepted':\n",
        "                try:\n",
        "                  conditions_text = \" \".join(per_oa['conditions'])\n",
        "                except:\n",
        "                  conditions_text = \"no conditions\"\n",
        "                if per_oa['additional_oa_fee'] == \"no\":\n",
        "                  fee_text = \"fee_no\"\n",
        "                else:\n",
        "                  fee_text = \"fee_yes\"\n",
        "                per_id = str(per_oa['id'])\n",
        "                accepted_oa_policy += per_id+\":\"+fee_text+\":\"+conditions_text+\";\"\n",
        "\n",
        "              #published\n",
        "              elif per_oa['article_version'][0] == 'published':\n",
        "                try:\n",
        "                  conditions_text = \" \".join(per_oa['conditions'])\n",
        "                except:\n",
        "                  conditions_text = \"no conditions\"\n",
        "                if per_oa['additional_oa_fee'] == \"no\":\n",
        "                  fee_text = \"fee_no\"\n",
        "                else:\n",
        "                  fee_text = \"fee_yes\"\n",
        "                per_id = str(per_oa['id']).strip()\n",
        "                published_oa_policy += per_id+\":\"+fee_text+\":\"+conditions_text+\";\"\n",
        "\n",
        "              #submitted\n",
        "              elif per_oa['article_version'][0] == 'submitted':\n",
        "                try:\n",
        "                  conditions_text = \" \".join(per_oa['conditions'])\n",
        "                except:\n",
        "                  conditions_text = \"no conditions\"\n",
        "                if per_oa['additional_oa_fee'] == \"no\":\n",
        "                  fee_text = \"fee_no\"\n",
        "                else:\n",
        "                  fee_text = \"fee_yes\"\n",
        "                per_id = str(per_oa['id']).strip()\n",
        "                submitted_oa_policy += per_id+\":\"+fee_text+\":\"+conditions_text+\";\"\n",
        "          except: #on occasion it error out totally\n",
        "            #print(\"error\")\n",
        "            policy_uri = \"error\"\n",
        "            accepted_oa_policy = \"error\"\n",
        "            published_oa_policy = \"error\"\n",
        "            submitted_oa_policy = \"error\"\n",
        "\n",
        "        if submitted_oa_policy == \"\":\n",
        "          submitted_oa_policy = \"None\"\n",
        "        if accepted_oa_policy == \"\":\n",
        "          accepted_oa_policy = \"None\"\n",
        "        if published_oa_policy == \"\":\n",
        "          published_oa_policy = \"None\"\n",
        "\n",
        "      #print(\"\\n\")\n",
        "      #print(policy_uri)\n",
        "      list_uri.append(policy_uri)\n",
        "      #print(submitted_oa_policy)\n",
        "      list_submitted_oa_policy.append(submitted_oa_policy)\n",
        "      #print(accepted_oa_policy)\n",
        "      list_accepted_oa_policy.append(accepted_oa_policy)\n",
        "      #print(published_oa_policy)\n",
        "      list_published_oa_policy.append(published_oa_policy)\n",
        "\n",
        "# add these new columns to the df\n",
        "df['policy_uri'] = list_uri\n",
        "df['submitted_oa_policy'] = list_submitted_oa_policy\n",
        "df['accepted_oa_policy'] = list_accepted_oa_policy\n",
        "df['published_oa_policy'] = list_published_oa_policy\n",
        "\n",
        "print(\"\\nDone retrieving PolicyFinder data.\")"
      ],
      "metadata": {
        "id": "Gkf6XPaVtNbq"
      },
      "execution_count": null,
      "outputs": []
    },
    {
      "cell_type": "code",
      "source": [
        "df.sample(10)"
      ],
      "metadata": {
        "id": "BGD4mjyiagA3"
      },
      "execution_count": null,
      "outputs": []
    },
    {
      "cell_type": "markdown",
      "source": [
        "# Analysis"
      ],
      "metadata": {
        "id": "-j-wCn4NvU_C"
      }
    },
    {
      "cell_type": "code",
      "source": [
        "#Total Versus OA as pie\n",
        "\n",
        "not_oa = df['already_oa'].value_counts()['no']\n",
        "oa = df['already_oa'].value_counts()['yes']\n",
        "explode = (0, 0.1)\n",
        "legend = [\"Closed Articles           (\"+str(not_oa)+\")\",\"Open Access Articles (\"+str(oa)+\")\"]\n",
        "\n",
        "plt.pie([not_oa,oa],autopct=\"%1.1f%%\",explode=explode,shadow=True,startangle=0,colors=colors)\n",
        "plt.legend(legend,bbox_to_anchor=(1.0,0.7))\n",
        "plt.title(\"Open Access versus Closed\")\n",
        "\n",
        "figname = \"Open_Access_versus_Closed.png\"\n",
        "plt.savefig(figname, bbox_inches='tight')\n",
        "files.download(figname)\n",
        "plt.show()"
      ],
      "metadata": {
        "id": "5OU1Il0uyeCd"
      },
      "execution_count": null,
      "outputs": []
    },
    {
      "cell_type": "code",
      "source": [
        "#colors of OA as pie\n",
        "\n",
        "oa_colors = df['oa_status'].value_counts().values\n",
        "legend = df['oa_status'].value_counts().index\n",
        "legend = ['%s (%1d)' % (l, s) for l, s in zip(df['oa_status'].value_counts().index, df['oa_status'].value_counts().values)]\n",
        "\n",
        "explode = list((0.0,) * len(df['oa_status'].value_counts().index))\n",
        "explode[0] = 0.1\n",
        "explode = tuple(explode)\n",
        "\n",
        "\n",
        "plt.pie(oa_colors,shadow=True, explode=explode, startangle=0,colors=colors)\n",
        "plt.legend(legend,bbox_to_anchor=(1.0,0.7))\n",
        "plt.title(\"Colours of Open Access\")\n",
        "\n",
        "figname = \"Colours_of_Open_Access.png\"\n",
        "plt.savefig(figname, bbox_inches='tight')\n",
        "files.download(figname)\n",
        "\n",
        "plt.show()\n",
        "\n"
      ],
      "metadata": {
        "id": "X4A6ncbFLLDL"
      },
      "execution_count": null,
      "outputs": []
    },
    {
      "cell_type": "code",
      "source": [
        "#Articles with at least 1 free pathway\n",
        "\n",
        "least_one_free_pathway = len(df[df['submitted_oa_policy'].str.contains('fee_no', case=False) \\\n",
        "                                | df['accepted_oa_policy'].str.contains('fee_no', case=False) \\\n",
        "                                | df['published_oa_policy'].str.contains('fee_no', case=False)])\n",
        "total = len(df)\n",
        "\n",
        "legend = [\"At Least 1 Free Pathway (\"+str(least_one_free_pathway)+\")\",\"No Free Pathway (\"+str(total-least_one_free_pathway)+\")\"]\n",
        "explode = (0.1, 0.0)\n",
        "plt.pie([least_one_free_pathway,total],autopct=\"%1.1f%%\",explode=explode,shadow=True,startangle=0,colors=colors)\n",
        "plt.legend(legend,bbox_to_anchor=(0.9,0.7))\n",
        "plt.title(\"A Known Free Pathway For All Published Items?\")\n",
        "\n",
        "figname = \"One_Free_Pathway.png\"\n",
        "plt.savefig(figname, bbox_inches='tight')\n",
        "#files.download(figname)\n",
        "plt.show()"
      ],
      "metadata": {
        "id": "3i9KMF84zb6d"
      },
      "execution_count": null,
      "outputs": []
    },
    {
      "cell_type": "code",
      "source": [
        "#For close articles, free, paid for other pathway\n",
        "closed_articles = df[df['already_oa'] == 'no']\n",
        "\n",
        "least_one_paid_pathway = len(closed_articles[closed_articles['submitted_oa_policy'].str.contains('fee_yes', case=False) \\\n",
        "                                | closed_articles['accepted_oa_policy'].str.contains('fee_yes', case=False) \\\n",
        "                                | closed_articles['published_oa_policy'].str.contains('fee_yes', case=False)])\n",
        "\n",
        "total_remaining_closed = len(closed_articles) - least_one_paid_pathway\n",
        "\n",
        "legend = [\"At Least 1 Paid for Pathway (\"+str(least_one_paid_pathway)+\")\",\"Remaining closed articles (\"+str(total_remaining_closed)+\")\"]\n",
        "explode = (0.1, 0.0)\n",
        "plt.pie([least_one_paid_pathway,total_remaining_closed],autopct=\"%1.1f%%\",explode=explode,shadow=True,startangle=0,colors=colors)\n",
        "plt.legend(legend,bbox_to_anchor=(0.9,0.7))\n",
        "plt.title(\"A paid for pathway available for closed articles?\")\n",
        "\n",
        "figname = \"Paid_For_Option_Closed_Articles.png\"\n",
        "plt.savefig(figname, bbox_inches='tight')\n",
        "files.download(figname)\n",
        "plt.show()\n"
      ],
      "metadata": {
        "id": "GK69EKqkiW0K"
      },
      "execution_count": null,
      "outputs": []
    },
    {
      "cell_type": "code",
      "source": [
        "#at least one free pathway for closed articles\n",
        "closed_articles = df[df['already_oa'] == 'no']\n",
        "\n",
        "least_one_free_pathway = len(closed_articles[closed_articles['submitted_oa_policy'].str.contains('fee_no', case=False) \\\n",
        "                                | closed_articles['accepted_oa_policy'].str.contains('fee_no', case=False) \\\n",
        "                                | closed_articles['published_oa_policy'].str.contains('fee_no', case=False)])\n",
        "\n",
        "total_remaining_closed = len(closed_articles) - least_one_free_pathway\n",
        "\n",
        "\n",
        "legend = [\"At Least 1 Free Pathway (\"+str(least_one_free_pathway)+\")\",\"Remaining closed articles (\"+str(total_remaining_closed)+\")\"]\n",
        "explode = (0.1, 0.0)\n",
        "plt.pie([least_one_free_pathway,total_remaining_closed],autopct=\"%1.1f%%\",explode=explode,shadow=True,startangle=0,colors=colors)\n",
        "plt.legend(legend,bbox_to_anchor=(0.95,0.7))\n",
        "plt.title(\"A free pathway available for closed articles?\")\n",
        "\n",
        "figname = \"Free_Option_Closed_Articles.png\"\n",
        "plt.savefig(figname, bbox_inches='tight')\n",
        "files.download(figname)\n",
        "plt.show()\n"
      ],
      "metadata": {
        "id": "8f6vGDbKkgnn"
      },
      "execution_count": null,
      "outputs": []
    },
    {
      "cell_type": "code",
      "source": [
        "closed_articles = df[df['already_oa'] == 'no']\n",
        "\n",
        "least_one_free_pathway = closed_articles[closed_articles['submitted_oa_policy'].str.contains('fee_no', case=False) \\\n",
        "                                | closed_articles['accepted_oa_policy'].str.contains('fee_no', case=False) \\\n",
        "                                | closed_articles['published_oa_policy'].str.contains('fee_no', case=False)]\n",
        "\n",
        "least_one_free_pathway.head(10)"
      ],
      "metadata": {
        "id": "Mh7HjdBTDSF0"
      },
      "execution_count": null,
      "outputs": []
    },
    {
      "cell_type": "code",
      "source": [
        "#top 10 sources\n",
        "df.value_counts('source')[0:10]"
      ],
      "metadata": {
        "id": "bhR6GHtQmgxx"
      },
      "execution_count": null,
      "outputs": []
    },
    {
      "cell_type": "code",
      "source": [
        "#Top Sources\n",
        "\n",
        "plt.barh(df.value_counts('source')[0:10].index,df.value_counts('source')[0:10].T,color=color)\n",
        "plt.title(\"Top 10 Sources\")\n",
        "plt.ylabel(\"Journal\")\n",
        "plt.xlabel(\"Number of Publications\")\n",
        "figname = \"Top_10_Sources.png\"\n",
        "plt.savefig(figname, bbox_inches='tight')\n",
        "files.download(figname)\n",
        "plt.show()"
      ],
      "metadata": {
        "id": "UXh2IhHlxl-m"
      },
      "execution_count": null,
      "outputs": []
    },
    {
      "cell_type": "code",
      "source": [
        "#top 10 publishers\n",
        "#df.value_counts('publisher')[0:10]"
      ],
      "metadata": {
        "id": "EQvQ4W-Gm_FD"
      },
      "execution_count": null,
      "outputs": []
    },
    {
      "cell_type": "code",
      "source": [
        "#top 10 publishers\n",
        "plt.barh(df.value_counts('publisher')[0:10].index,df.value_counts('publisher')[0:10].T,color=color)\n",
        "plt.title(\"Top 10 Publishers\")\n",
        "plt.ylabel(\"Publisher\")\n",
        "plt.xlabel(\"Number of Publications\")\n",
        "figname = \"Top_10_Publishers.png\"\n",
        "plt.savefig(figname, bbox_inches='tight')\n",
        "files.download(figname)\n",
        "plt.show()"
      ],
      "metadata": {
        "id": "Z1dFKbzKx1DL"
      },
      "execution_count": null,
      "outputs": []
    },
    {
      "cell_type": "code",
      "source": [
        "#Closed or Open by publisher?\n",
        "\n",
        "top_10_pub_list = list(df.value_counts('publisher')[0:10].index)\n",
        "\n",
        "df_top_pub = df[df['publisher'].isin(top_10_pub_list)]\n",
        "df_top_pub = df_top_pub.groupby('publisher')['already_oa'].value_counts()\n",
        "df_top_pub = df_top_pub.unstack().fillna(0)\n",
        "\n",
        "total_pubs = []\n",
        "for pub in df_top_pub.iterrows():\n",
        "  total_pubs.append(pub[1]['no']+pub[1]['yes'])\n",
        "df_top_pub['total'] = total_pubs\n",
        "df_top_pub.sort_values(by='total',ascending=False,inplace=True)\n",
        "del(df_top_pub['total'])\n",
        "\n",
        "df_top_pub.plot(kind='barh',stacked=True,color=colors,title=\"Proportion of Open Access\",xlabel='Number of publications')\n",
        "plt.legend([\"Open Access\",\"Closed\"],bbox_to_anchor=(1.35,0.7))\n",
        "plt.ylabel(\"Publisher\")\n",
        "plt.title(\"Open Versus Closed\")\n",
        "figname = \"Proportion_of_Open_Access.png\"\n",
        "plt.savefig(figname, bbox_inches='tight')\n",
        "files.download(figname)\n",
        "plt.show()"
      ],
      "metadata": {
        "id": "oBRwKjvpBOKW"
      },
      "execution_count": null,
      "outputs": []
    },
    {
      "cell_type": "markdown",
      "source": [
        "#Samples from Data set"
      ],
      "metadata": {
        "id": "n2jH_ouIyI6u"
      }
    },
    {
      "cell_type": "code",
      "source": [
        "#Just a sample of what we have\n",
        "#df.sample(10)"
      ],
      "metadata": {
        "id": "TI8k-WnAr-Cf"
      },
      "execution_count": null,
      "outputs": []
    },
    {
      "cell_type": "markdown",
      "source": [
        "# Write out to File"
      ],
      "metadata": {
        "id": "bKuThWPFq5my"
      }
    },
    {
      "cell_type": "code",
      "source": [
        "#DOI data as CSV\n",
        "\n",
        "\n",
        "csv_file_name = \"Brock_OpenAlex_Harvest_Start_Date_\"+from_publication_date+\"_to_\"+to_publication_date+\"_retrieved_\"+datetime.today().strftime('%Y-%m-%d')+\".csv\"\n",
        "print(\"Saving to file: \"+csv_file_name)\n",
        "df.to_csv(csv_file_name,index=False)\n",
        "files.download(csv_file_name)"
      ],
      "metadata": {
        "id": "84yfVGcBq7gj"
      },
      "execution_count": null,
      "outputs": []
    }
  ]
}