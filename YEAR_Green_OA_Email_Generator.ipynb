{
  "nbformat": 4,
  "nbformat_minor": 0,
  "metadata": {
    "colab": {
      "provenance": [],
      "authorship_tag": "ABX9TyP9SCrCOUvsLzf2qEqA4ZuL",
      "include_colab_link": true
    },
    "kernelspec": {
      "name": "python3",
      "display_name": "Python 3"
    },
    "language_info": {
      "name": "python"
    }
  },
  "cells": [
    {
      "cell_type": "markdown",
      "metadata": {
        "id": "view-in-github",
        "colab_type": "text"
      },
      "source": [
        "<a href=\"https://colab.research.google.com/github/elibtronic/2025_state_of_scholarly_communication/blob/main/YEAR_Green_OA_Email_Generator.ipynb\" target=\"_parent\"><img src=\"https://colab.research.google.com/assets/colab-badge.svg\" alt=\"Open In Colab\"/></a>"
      ]
    },
    {
      "cell_type": "markdown",
      "source": [
        "\n",
        "# Email template builder\n"
      ],
      "metadata": {
        "id": "fu5vZxsKSJRR"
      }
    },
    {
      "cell_type": "code",
      "source": [
        "!pip install crossrefapi\n",
        "\n",
        "from crossref.restful import Works\n",
        "import pandas as pd\n",
        "from zipfile import ZipFile, ZIP_DEFLATED\n",
        "import glob\n",
        "import os\n",
        "import requests\n",
        "import json\n",
        "from google.colab import files\n",
        "from email.mime.multipart import MIMEMultipart\n",
        "from email.mime.text import MIMEText\n",
        "\n",
        "print(\"ready to proceed\")"
      ],
      "metadata": {
        "id": "ZiINF4yOCZvv"
      },
      "execution_count": null,
      "outputs": []
    },
    {
      "cell_type": "code",
      "source": [
        "# @title Green OA email template builder\n",
        "# @markdown Not going to put this in the public repo as it has contact info\n",
        "# @markdown Instead a Google Sheet shared as CSV\n",
        "green_csv = \"\" # @param {\"type\":\"string\"}\n",
        "from_mail = \"\" # @param {\"type\":\"string\"}\n",
        "# @markdown The following is where the Google Sheet of author info is\n",
        "\n",
        "# @markdown\n",
        "\n",
        "\n",
        "green_df = pd.read_csv(green_csv)\n"
      ],
      "metadata": {
        "id": "0aCdfDBCCdrS"
      },
      "execution_count": null,
      "outputs": []
    },
    {
      "cell_type": "code",
      "source": [
        "#view some entries if needed\n",
        "green_df.tail(5)"
      ],
      "metadata": {
        "id": "KcvUuSH6DsgF"
      },
      "execution_count": null,
      "outputs": []
    },
    {
      "cell_type": "code",
      "execution_count": null,
      "metadata": {
        "id": "Rmemwajn_7Qi"
      },
      "outputs": [],
      "source": [
        "# Be sure to modify the message to personalize to your institution\n",
        "\n",
        "def generate_email(doi,source, email,name,form_url):\n",
        "\n",
        "  print(\"Working on... \",doi)\n",
        "  try:\n",
        "    l_name = str.strip(name.split(\",\")[0])\n",
        "    g_name = str.strip(name.split(\",\")[1])\n",
        "  except:\n",
        "    l_name = \"NA\"\n",
        "    g_name = \"NA\"\n",
        "\n",
        "  try:\n",
        "    email = email.strip()\n",
        "  except:\n",
        "    email = \"NA@NA.com\"\n",
        "\n",
        "  works = Works()\n",
        "  result = works.doi(doi)\n",
        "  a_title = result['title'][0]\n",
        "\n",
        "  html_content = (\n",
        "  \"<html>\\n\"\n",
        "  \"<head></head>\\n\"\n",
        "  \"<body>\\n\"\n",
        "  f\"<p>Hello {g_name},</p>\\n\"\n",
        "  f\"<p>Your article: <strong>{a_title}</strong>, \"\n",
        "  f\"with DOI: <a href='{doi}'>{doi}</a> \"\n",
        "  \"can be deposited in the Brock University Digital Repository.\\n</br>\"\n",
        "  \"What this means is that your paper will end up reaching a wider audience, which will increase engagement with your work and a possible increase in citations too.\\n\"\n",
        "  \"The library assessed the journal articles published by Brock authors in the past year and identified ones where a free version could be added to the Brock repository — including yours.\"\n",
        "  \" That is why you are receiving this email.</p>\\n\"\n",
        "  f\"<p>Not much is required from you, just the file, and this whole process shouldn't take much of your time to complete. This link: <a href='{form_url}'>{form_url}</a> will provide more information and start the deposit process if you are interested.</p>\\n\"\n",
        "  \"<p>More information about this program and why we are doing it can be found on our <a href='https://researchguides.library.brocku.ca/getting-your-research-out/green-open-access'>Getting Your Research Out</a> guide. I'm also happy to answer any questions you have.</p>\"\n",
        "  \"<p>Thanks,</p>\"\n",
        "  \"<p>  Tim</p>\"\n",
        "  \"<p></p>\"\n",
        "  \"<p>  Scholarly Publishing and Platforms Librarian</p>\"\n",
        "  \"</body>\\n\"\n",
        "  \"</html>\\n\"\n",
        "  )\n",
        "\n",
        "  f_name = doi.split('https://doi.org/')[1].replace(\"/\",\"_\")\n",
        "\n",
        "  # Create a MIMEText object for the HTML part\n",
        "  html_part = MIMEText(html_content, 'html')\n",
        "\n",
        "  # Create a MIMEMultipart object to hold the email parts\n",
        "  msg = MIMEMultipart('alternative')\n",
        "  msg['Subject'] = \"About your paper in \"+source\n",
        "  msg['From'] = from_mail\n",
        "  msg['To'] = email\n",
        "\n",
        "  # Attach the HTML part to the message\n",
        "  msg.attach(html_part)\n",
        "\n",
        "  # The 'msg.as_string()' method will give you the full email message string\n",
        "  # ready to be sent via an SMTP server.\n",
        "  email_message_string = msg.as_string()\n",
        "\n",
        "  #print(email_message_string)\n",
        "\n",
        "  with open(f_name+\".emltpl\", 'w') as f:\n",
        "    f.write(email_message_string)\n",
        "\n"
      ]
    },
    {
      "cell_type": "code",
      "source": [
        "#delete any emails from last run just in case\n",
        "\n",
        "for f_to_remove in glob.glob(\"*.emltpl\"):\n",
        "  os.remove(f_to_remove)"
      ],
      "metadata": {
        "id": "_q-pZISnOERf"
      },
      "execution_count": null,
      "outputs": []
    },
    {
      "cell_type": "code",
      "source": [
        "\n",
        "#go through DF and make the emails\n",
        "for green_article in green_df.itertuples():\n",
        "  generate_email(green_article.DOI, \\\n",
        "               green_article.source,\\\n",
        "               green_article.email,\\\n",
        "               green_article.name,\\\n",
        "               green_article.form_url)\n",
        "\n",
        "print(\"done\")"
      ],
      "metadata": {
        "id": "tjjflWDfOulq"
      },
      "execution_count": null,
      "outputs": []
    },
    {
      "cell_type": "code",
      "source": [
        "#Zip and Download email templates\n",
        "\n",
        "zip_name = \"green_machine_emails.zip\"\n",
        "\n",
        "with ZipFile(zip_name, \"w\", compression=ZIP_DEFLATED) as zf:\n",
        "  for tef in glob.glob(\"*.emltpl\"):\n",
        "    zf.write(tef)\n",
        "\n",
        "files.download(zip_name)"
      ],
      "metadata": {
        "id": "6sN17mXXKh8F"
      },
      "execution_count": null,
      "outputs": []
    }
  ]
}