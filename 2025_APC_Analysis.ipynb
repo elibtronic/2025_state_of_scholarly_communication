{
  "nbformat": 4,
  "nbformat_minor": 0,
  "metadata": {
    "colab": {
      "provenance": [],
      "authorship_tag": "ABX9TyMZPtQT9fkJExl5zo+AonXp",
      "include_colab_link": true
    },
    "kernelspec": {
      "name": "python3",
      "display_name": "Python 3"
    },
    "language_info": {
      "name": "python"
    }
  },
  "cells": [
    {
      "cell_type": "markdown",
      "metadata": {
        "id": "view-in-github",
        "colab_type": "text"
      },
      "source": [
        "<a href=\"https://colab.research.google.com/github/elibtronic/2025_state_of_scholarly_communication/blob/main/2025_APC_Analysis.ipynb\" target=\"_parent\"><img src=\"https://colab.research.google.com/assets/colab-badge.svg\" alt=\"Open In Colab\"/></a>"
      ]
    },
    {
      "cell_type": "markdown",
      "source": [
        "\n",
        "# APC Analysis\n",
        "\n",
        "How money was spent on APCs by Brock Researchers\n"
      ],
      "metadata": {
        "id": "Ndot_598kLlv"
      }
    },
    {
      "cell_type": "code",
      "execution_count": 1,
      "metadata": {
        "colab": {
          "base_uri": "https://localhost:8080/"
        },
        "id": "NYXqZKOsYjTY",
        "outputId": "a8e38910-7f88-4a91-ff47-c90f6c5d1c91"
      },
      "outputs": [
        {
          "output_type": "stream",
          "name": "stdout",
          "text": [
            "\n",
            "Total works: 670\n"
          ]
        }
      ],
      "source": [
        "\n",
        "import requests\n",
        "import numpy as np\n",
        "from pprint import pprint\n",
        "import pandas as pd\n",
        "from datetime import datetime\n",
        "from google.colab import files\n",
        "\n",
        "# @markdown ## OpenAlex Settings\n",
        "\n",
        "# @markdown Enter in your email address for authentication to Open Alex\n",
        "mailto = \"\"  # @param {type:\"string\"}\n",
        "ror_id     = \"056am2717\"  # @param {type:\"string\"}\n",
        "from_publication_date = \"2024-07-01\"  # @param {type:\"date\"}\n",
        "to_publication_date = \"2025-06-30\"  # @param {type:\"date\"}\n",
        "\n",
        "# @markdown ## Conversion between USD and CAD\n",
        "\n",
        "usd_to_cad = 1.39 # @param {\"type\":\"number\",\"placeholder\":\"Conversation rate between USD and CAD\"}\n",
        "\n",
        "\n",
        "\n",
        "filter = f\"authorships.institutions.ror:{ror_id},from_publication_date:{from_publication_date},to_publication_date:{to_publication_date},type:article,primary_location.source.type:journal\"\n",
        "api_url = f\"https://api.openalex.org/works?filter={filter}&per-page=200&mailto={mailto}\"\n",
        "\n",
        "cursor = \"*\"  # Cursor for the first request\n",
        "works = []  # List to accumulate all results\n",
        "\n",
        "while cursor:\n",
        "    # Construct the request URL with the current cursor\n",
        "    request_url = api_url + f\"&cursor={cursor}\"\n",
        "\n",
        "    # Get results from the API\n",
        "    page = requests.get(request_url).json()\n",
        "    results = page.get('results')\n",
        "    meta = page.get('meta')\n",
        "\n",
        "    # Accumulate results\n",
        "    works += results\n",
        "\n",
        "    # Get the next cursor from the current results\n",
        "    cursor = meta.get('next_cursor')\n",
        "\n",
        "    # Print progress\n",
        "    total = int(meta.get(\"count\"))\n",
        "    #print(f\"\\r{len(works)}/{total}: {request_url}\", end=\"\")\n",
        "\n",
        "# Do something with all results\n",
        "print(f\"\\nTotal works: {len(works)}\")"
      ]
    },
    {
      "cell_type": "code",
      "source": [
        "\n",
        "apc_data_list = []\n",
        "apc_paid_list  = []\n",
        "apc_cad_list = []\n",
        "\n",
        "for work in works:\n",
        "  try:\n",
        "    apc_list = work.get('apc_list')['value_usd']\n",
        "  except:\n",
        "    apc_list = np.nan\n",
        "\n",
        "  try:\n",
        "    apc_paid = work.get('apc_paid')['value_usd']\n",
        "    apc_cad = work.get('apc_paid')['value_usd'] * usd_to_cad\n",
        "  except:\n",
        "    apc_paid = np.nan\n",
        "    apc_cad = np.nan\n",
        "\n",
        "  apc_data_list.append(apc_list)\n",
        "  apc_paid_list.append(apc_paid)\n",
        "  apc_cad_list.append(apc_cad)\n",
        "\n",
        "apc_df = pd.DataFrame(zip(apc_data_list,apc_paid_list,apc_cad_list),columns=['APC','Amount Paid (USD)','Amount Paid (CAD)'])\n"
      ],
      "metadata": {
        "id": "Qkv_HHPE91pr"
      },
      "execution_count": 2,
      "outputs": []
    },
    {
      "cell_type": "code",
      "source": [
        "apc_df.sample(5)"
      ],
      "metadata": {
        "colab": {
          "base_uri": "https://localhost:8080/",
          "height": 206
        },
        "id": "mwKx3bSX_xsP",
        "outputId": "cfa1a2c2-191e-427f-dc0c-58eb37bbe92a"
      },
      "execution_count": 3,
      "outputs": [
        {
          "output_type": "execute_result",
          "data": {
            "text/plain": [
              "        APC  Amount Paid (USD)  Amount Paid (CAD)\n",
              "372     NaN                NaN                NaN\n",
              "389  1450.0             1450.0            2015.50\n",
              "55      NaN                NaN                NaN\n",
              "430     NaN                NaN                NaN\n",
              "622  2382.0             2382.0            3310.98"
            ],
            "text/html": [
              "\n",
              "  <div id=\"df-ac6741d8-d7c1-4fbe-aae4-b4f90220c704\" class=\"colab-df-container\">\n",
              "    <div>\n",
              "<style scoped>\n",
              "    .dataframe tbody tr th:only-of-type {\n",
              "        vertical-align: middle;\n",
              "    }\n",
              "\n",
              "    .dataframe tbody tr th {\n",
              "        vertical-align: top;\n",
              "    }\n",
              "\n",
              "    .dataframe thead th {\n",
              "        text-align: right;\n",
              "    }\n",
              "</style>\n",
              "<table border=\"1\" class=\"dataframe\">\n",
              "  <thead>\n",
              "    <tr style=\"text-align: right;\">\n",
              "      <th></th>\n",
              "      <th>APC</th>\n",
              "      <th>Amount Paid (USD)</th>\n",
              "      <th>Amount Paid (CAD)</th>\n",
              "    </tr>\n",
              "  </thead>\n",
              "  <tbody>\n",
              "    <tr>\n",
              "      <th>372</th>\n",
              "      <td>NaN</td>\n",
              "      <td>NaN</td>\n",
              "      <td>NaN</td>\n",
              "    </tr>\n",
              "    <tr>\n",
              "      <th>389</th>\n",
              "      <td>1450.0</td>\n",
              "      <td>1450.0</td>\n",
              "      <td>2015.50</td>\n",
              "    </tr>\n",
              "    <tr>\n",
              "      <th>55</th>\n",
              "      <td>NaN</td>\n",
              "      <td>NaN</td>\n",
              "      <td>NaN</td>\n",
              "    </tr>\n",
              "    <tr>\n",
              "      <th>430</th>\n",
              "      <td>NaN</td>\n",
              "      <td>NaN</td>\n",
              "      <td>NaN</td>\n",
              "    </tr>\n",
              "    <tr>\n",
              "      <th>622</th>\n",
              "      <td>2382.0</td>\n",
              "      <td>2382.0</td>\n",
              "      <td>3310.98</td>\n",
              "    </tr>\n",
              "  </tbody>\n",
              "</table>\n",
              "</div>\n",
              "    <div class=\"colab-df-buttons\">\n",
              "\n",
              "  <div class=\"colab-df-container\">\n",
              "    <button class=\"colab-df-convert\" onclick=\"convertToInteractive('df-ac6741d8-d7c1-4fbe-aae4-b4f90220c704')\"\n",
              "            title=\"Convert this dataframe to an interactive table.\"\n",
              "            style=\"display:none;\">\n",
              "\n",
              "  <svg xmlns=\"http://www.w3.org/2000/svg\" height=\"24px\" viewBox=\"0 -960 960 960\">\n",
              "    <path d=\"M120-120v-720h720v720H120Zm60-500h600v-160H180v160Zm220 220h160v-160H400v160Zm0 220h160v-160H400v160ZM180-400h160v-160H180v160Zm440 0h160v-160H620v160ZM180-180h160v-160H180v160Zm440 0h160v-160H620v160Z\"/>\n",
              "  </svg>\n",
              "    </button>\n",
              "\n",
              "  <style>\n",
              "    .colab-df-container {\n",
              "      display:flex;\n",
              "      gap: 12px;\n",
              "    }\n",
              "\n",
              "    .colab-df-convert {\n",
              "      background-color: #E8F0FE;\n",
              "      border: none;\n",
              "      border-radius: 50%;\n",
              "      cursor: pointer;\n",
              "      display: none;\n",
              "      fill: #1967D2;\n",
              "      height: 32px;\n",
              "      padding: 0 0 0 0;\n",
              "      width: 32px;\n",
              "    }\n",
              "\n",
              "    .colab-df-convert:hover {\n",
              "      background-color: #E2EBFA;\n",
              "      box-shadow: 0px 1px 2px rgba(60, 64, 67, 0.3), 0px 1px 3px 1px rgba(60, 64, 67, 0.15);\n",
              "      fill: #174EA6;\n",
              "    }\n",
              "\n",
              "    .colab-df-buttons div {\n",
              "      margin-bottom: 4px;\n",
              "    }\n",
              "\n",
              "    [theme=dark] .colab-df-convert {\n",
              "      background-color: #3B4455;\n",
              "      fill: #D2E3FC;\n",
              "    }\n",
              "\n",
              "    [theme=dark] .colab-df-convert:hover {\n",
              "      background-color: #434B5C;\n",
              "      box-shadow: 0px 1px 3px 1px rgba(0, 0, 0, 0.15);\n",
              "      filter: drop-shadow(0px 1px 2px rgba(0, 0, 0, 0.3));\n",
              "      fill: #FFFFFF;\n",
              "    }\n",
              "  </style>\n",
              "\n",
              "    <script>\n",
              "      const buttonEl =\n",
              "        document.querySelector('#df-ac6741d8-d7c1-4fbe-aae4-b4f90220c704 button.colab-df-convert');\n",
              "      buttonEl.style.display =\n",
              "        google.colab.kernel.accessAllowed ? 'block' : 'none';\n",
              "\n",
              "      async function convertToInteractive(key) {\n",
              "        const element = document.querySelector('#df-ac6741d8-d7c1-4fbe-aae4-b4f90220c704');\n",
              "        const dataTable =\n",
              "          await google.colab.kernel.invokeFunction('convertToInteractive',\n",
              "                                                    [key], {});\n",
              "        if (!dataTable) return;\n",
              "\n",
              "        const docLinkHtml = 'Like what you see? Visit the ' +\n",
              "          '<a target=\"_blank\" href=https://colab.research.google.com/notebooks/data_table.ipynb>data table notebook</a>'\n",
              "          + ' to learn more about interactive tables.';\n",
              "        element.innerHTML = '';\n",
              "        dataTable['output_type'] = 'display_data';\n",
              "        await google.colab.output.renderOutput(dataTable, element);\n",
              "        const docLink = document.createElement('div');\n",
              "        docLink.innerHTML = docLinkHtml;\n",
              "        element.appendChild(docLink);\n",
              "      }\n",
              "    </script>\n",
              "  </div>\n",
              "\n",
              "\n",
              "    <div id=\"df-e65d40a6-a008-44cb-9cd3-ec11285632e1\">\n",
              "      <button class=\"colab-df-quickchart\" onclick=\"quickchart('df-e65d40a6-a008-44cb-9cd3-ec11285632e1')\"\n",
              "                title=\"Suggest charts\"\n",
              "                style=\"display:none;\">\n",
              "\n",
              "<svg xmlns=\"http://www.w3.org/2000/svg\" height=\"24px\"viewBox=\"0 0 24 24\"\n",
              "     width=\"24px\">\n",
              "    <g>\n",
              "        <path d=\"M19 3H5c-1.1 0-2 .9-2 2v14c0 1.1.9 2 2 2h14c1.1 0 2-.9 2-2V5c0-1.1-.9-2-2-2zM9 17H7v-7h2v7zm4 0h-2V7h2v10zm4 0h-2v-4h2v4z\"/>\n",
              "    </g>\n",
              "</svg>\n",
              "      </button>\n",
              "\n",
              "<style>\n",
              "  .colab-df-quickchart {\n",
              "      --bg-color: #E8F0FE;\n",
              "      --fill-color: #1967D2;\n",
              "      --hover-bg-color: #E2EBFA;\n",
              "      --hover-fill-color: #174EA6;\n",
              "      --disabled-fill-color: #AAA;\n",
              "      --disabled-bg-color: #DDD;\n",
              "  }\n",
              "\n",
              "  [theme=dark] .colab-df-quickchart {\n",
              "      --bg-color: #3B4455;\n",
              "      --fill-color: #D2E3FC;\n",
              "      --hover-bg-color: #434B5C;\n",
              "      --hover-fill-color: #FFFFFF;\n",
              "      --disabled-bg-color: #3B4455;\n",
              "      --disabled-fill-color: #666;\n",
              "  }\n",
              "\n",
              "  .colab-df-quickchart {\n",
              "    background-color: var(--bg-color);\n",
              "    border: none;\n",
              "    border-radius: 50%;\n",
              "    cursor: pointer;\n",
              "    display: none;\n",
              "    fill: var(--fill-color);\n",
              "    height: 32px;\n",
              "    padding: 0;\n",
              "    width: 32px;\n",
              "  }\n",
              "\n",
              "  .colab-df-quickchart:hover {\n",
              "    background-color: var(--hover-bg-color);\n",
              "    box-shadow: 0 1px 2px rgba(60, 64, 67, 0.3), 0 1px 3px 1px rgba(60, 64, 67, 0.15);\n",
              "    fill: var(--button-hover-fill-color);\n",
              "  }\n",
              "\n",
              "  .colab-df-quickchart-complete:disabled,\n",
              "  .colab-df-quickchart-complete:disabled:hover {\n",
              "    background-color: var(--disabled-bg-color);\n",
              "    fill: var(--disabled-fill-color);\n",
              "    box-shadow: none;\n",
              "  }\n",
              "\n",
              "  .colab-df-spinner {\n",
              "    border: 2px solid var(--fill-color);\n",
              "    border-color: transparent;\n",
              "    border-bottom-color: var(--fill-color);\n",
              "    animation:\n",
              "      spin 1s steps(1) infinite;\n",
              "  }\n",
              "\n",
              "  @keyframes spin {\n",
              "    0% {\n",
              "      border-color: transparent;\n",
              "      border-bottom-color: var(--fill-color);\n",
              "      border-left-color: var(--fill-color);\n",
              "    }\n",
              "    20% {\n",
              "      border-color: transparent;\n",
              "      border-left-color: var(--fill-color);\n",
              "      border-top-color: var(--fill-color);\n",
              "    }\n",
              "    30% {\n",
              "      border-color: transparent;\n",
              "      border-left-color: var(--fill-color);\n",
              "      border-top-color: var(--fill-color);\n",
              "      border-right-color: var(--fill-color);\n",
              "    }\n",
              "    40% {\n",
              "      border-color: transparent;\n",
              "      border-right-color: var(--fill-color);\n",
              "      border-top-color: var(--fill-color);\n",
              "    }\n",
              "    60% {\n",
              "      border-color: transparent;\n",
              "      border-right-color: var(--fill-color);\n",
              "    }\n",
              "    80% {\n",
              "      border-color: transparent;\n",
              "      border-right-color: var(--fill-color);\n",
              "      border-bottom-color: var(--fill-color);\n",
              "    }\n",
              "    90% {\n",
              "      border-color: transparent;\n",
              "      border-bottom-color: var(--fill-color);\n",
              "    }\n",
              "  }\n",
              "</style>\n",
              "\n",
              "      <script>\n",
              "        async function quickchart(key) {\n",
              "          const quickchartButtonEl =\n",
              "            document.querySelector('#' + key + ' button');\n",
              "          quickchartButtonEl.disabled = true;  // To prevent multiple clicks.\n",
              "          quickchartButtonEl.classList.add('colab-df-spinner');\n",
              "          try {\n",
              "            const charts = await google.colab.kernel.invokeFunction(\n",
              "                'suggestCharts', [key], {});\n",
              "          } catch (error) {\n",
              "            console.error('Error during call to suggestCharts:', error);\n",
              "          }\n",
              "          quickchartButtonEl.classList.remove('colab-df-spinner');\n",
              "          quickchartButtonEl.classList.add('colab-df-quickchart-complete');\n",
              "        }\n",
              "        (() => {\n",
              "          let quickchartButtonEl =\n",
              "            document.querySelector('#df-e65d40a6-a008-44cb-9cd3-ec11285632e1 button');\n",
              "          quickchartButtonEl.style.display =\n",
              "            google.colab.kernel.accessAllowed ? 'block' : 'none';\n",
              "        })();\n",
              "      </script>\n",
              "    </div>\n",
              "\n",
              "    </div>\n",
              "  </div>\n"
            ],
            "application/vnd.google.colaboratory.intrinsic+json": {
              "type": "dataframe",
              "summary": "{\n  \"name\": \"apc_df\",\n  \"rows\": 5,\n  \"fields\": [\n    {\n      \"column\": \"APC\",\n      \"properties\": {\n        \"dtype\": \"number\",\n        \"std\": 659.0235200658623,\n        \"min\": 1450.0,\n        \"max\": 2382.0,\n        \"num_unique_values\": 2,\n        \"samples\": [\n          2382.0,\n          1450.0\n        ],\n        \"semantic_type\": \"\",\n        \"description\": \"\"\n      }\n    },\n    {\n      \"column\": \"Amount Paid (USD)\",\n      \"properties\": {\n        \"dtype\": \"number\",\n        \"std\": 659.0235200658623,\n        \"min\": 1450.0,\n        \"max\": 2382.0,\n        \"num_unique_values\": 2,\n        \"samples\": [\n          2382.0,\n          1450.0\n        ],\n        \"semantic_type\": \"\",\n        \"description\": \"\"\n      }\n    },\n    {\n      \"column\": \"Amount Paid (CAD)\",\n      \"properties\": {\n        \"dtype\": \"number\",\n        \"std\": 916.0426928915484,\n        \"min\": 2015.4999999999998,\n        \"max\": 3310.9799999999996,\n        \"num_unique_values\": 2,\n        \"samples\": [\n          3310.9799999999996,\n          2015.4999999999998\n        ],\n        \"semantic_type\": \"\",\n        \"description\": \"\"\n      }\n    }\n  ]\n}"
            }
          },
          "metadata": {},
          "execution_count": 3
        }
      ]
    },
    {
      "cell_type": "code",
      "source": [
        "#total amount of APCS paid\n",
        "apc_df['Amount Paid (CAD)'].sum()"
      ],
      "metadata": {
        "colab": {
          "base_uri": "https://localhost:8080/"
        },
        "id": "lBmtXnpSAadw",
        "outputId": "df06d688-6f5c-4eed-ddb8-ea98cac38269"
      },
      "execution_count": 4,
      "outputs": [
        {
          "output_type": "execute_result",
          "data": {
            "text/plain": [
              "np.float64(1027839.6699999999)"
            ]
          },
          "metadata": {},
          "execution_count": 4
        }
      ]
    },
    {
      "cell_type": "code",
      "source": [
        "#total APC data retrieved\n",
        "apc_df['APC'].sum() * usd_to_cad"
      ],
      "metadata": {
        "colab": {
          "base_uri": "https://localhost:8080/"
        },
        "id": "0DgQ5A2qBw22",
        "outputId": "b81dfd3f-5b7b-4c32-aa6b-798930edc997"
      },
      "execution_count": 5,
      "outputs": [
        {
          "output_type": "execute_result",
          "data": {
            "text/plain": [
              "np.float64(1489393.3399999999)"
            ]
          },
          "metadata": {},
          "execution_count": 5
        }
      ]
    },
    {
      "cell_type": "code",
      "source": [
        "#mean paid APCs\n",
        "apc_df['Amount Paid (CAD)'].mean()"
      ],
      "metadata": {
        "colab": {
          "base_uri": "https://localhost:8080/"
        },
        "id": "-jQBgASBBjSN",
        "outputId": "2b6d84e6-d1ba-4263-ca48-0153b05c1e55"
      },
      "execution_count": 6,
      "outputs": [
        {
          "output_type": "execute_result",
          "data": {
            "text/plain": [
              "np.float64(4111.358679999999)"
            ]
          },
          "metadata": {},
          "execution_count": 6
        }
      ]
    },
    {
      "cell_type": "code",
      "source": [
        "#median paid APCS\n",
        "apc_df['Amount Paid (CAD)'].median()"
      ],
      "metadata": {
        "colab": {
          "base_uri": "https://localhost:8080/"
        },
        "id": "PRh0iN6pBsoT",
        "outputId": "b0c2c25a-4c3b-4621-9366-651494a779c1"
      },
      "execution_count": 7,
      "outputs": [
        {
          "output_type": "execute_result",
          "data": {
            "text/plain": [
              "3912.85"
            ]
          },
          "metadata": {},
          "execution_count": 7
        }
      ]
    },
    {
      "cell_type": "code",
      "source": [
        "#total of DOIs with APCs\n",
        "apc_df['APC'].count()"
      ],
      "metadata": {
        "colab": {
          "base_uri": "https://localhost:8080/"
        },
        "id": "oSZpPbreCBDp",
        "outputId": "e48c3343-e591-4b92-faf6-0d390003ff44"
      },
      "execution_count": 8,
      "outputs": [
        {
          "output_type": "execute_result",
          "data": {
            "text/plain": [
              "np.int64(373)"
            ]
          },
          "metadata": {},
          "execution_count": 8
        }
      ]
    },
    {
      "cell_type": "code",
      "source": [
        "#portion of DOIs with APCs\n",
        "apc_df['APC'].count() / len(apc_df['APC'])"
      ],
      "metadata": {
        "colab": {
          "base_uri": "https://localhost:8080/"
        },
        "id": "59ap5lTRCPbK",
        "outputId": "8c27d712-f479-4d75-f7a0-d54d47f88e5e"
      },
      "execution_count": 9,
      "outputs": [
        {
          "output_type": "execute_result",
          "data": {
            "text/plain": [
              "np.float64(0.5567164179104478)"
            ]
          },
          "metadata": {},
          "execution_count": 9
        }
      ]
    },
    {
      "cell_type": "code",
      "source": [
        "#portion of DOIs that were paid\n",
        "apc_df['Amount Paid (CAD)'].count()"
      ],
      "metadata": {
        "colab": {
          "base_uri": "https://localhost:8080/"
        },
        "id": "Y6B-Vr28EOX6",
        "outputId": "6db687c4-18e7-4b8a-a44b-c92aaae64eff"
      },
      "execution_count": 10,
      "outputs": [
        {
          "output_type": "execute_result",
          "data": {
            "text/plain": [
              "np.int64(250)"
            ]
          },
          "metadata": {},
          "execution_count": 10
        }
      ]
    },
    {
      "cell_type": "code",
      "source": [
        "#portion of paid APCs\n",
        "apc_df['APC'].count() / len(apc_df['Amount Paid (CAD)'])"
      ],
      "metadata": {
        "colab": {
          "base_uri": "https://localhost:8080/"
        },
        "id": "0SEc43lgEi5h",
        "outputId": "fb92fcb2-dee2-4b3b-88aa-ca375bde4510"
      },
      "execution_count": 11,
      "outputs": [
        {
          "output_type": "execute_result",
          "data": {
            "text/plain": [
              "np.float64(0.5567164179104478)"
            ]
          },
          "metadata": {},
          "execution_count": 11
        }
      ]
    }
  ]
}